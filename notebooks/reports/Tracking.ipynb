{
 "cells": [
  {
   "cell_type": "markdown",
   "metadata": {},
   "source": [
    "# Figures for the Tracking experiment results"
   ]
  },
  {
   "cell_type": "markdown",
   "metadata": {},
   "source": [
    "First of all, let's reveiew what data do we have. we have:\n",
    "- the Rigid Body Position: This is the real time of the change in movement being reported to Python\n",
    "- the LED postion: this is when the actual movement happened, which is in the beginning of the trial\n",
    "- trial number\n",
    "- time\n",
    "\n",
    "\n",
    "Here is a list of figures needed for demonstrating (and interpreting) the tracking experiment results:\n",
    "\n",
    "#### For single session\n",
    "- time vs. rigid body position for the whole experiment\n",
    "- time vs. led position\n",
    "- lines that mark beginning of the trial for the whole experiment\n",
    "- Trial vs. latency\n",
    "- Latency distribution\n",
    "\n",
    "#### Comparing multiple sessions\n",
    "- Latency distribution of Tracking for different parameters (FR, Exposure time, video type, etc.)"
   ]
  },
  {
   "cell_type": "code",
   "execution_count": 1,
   "metadata": {},
   "outputs": [],
   "source": [
    "import glob\n",
    "import os\n",
    "\n",
    "import numpy as np\n",
    "import pandas as pd\n",
    "import matplotlib.pyplot as plt\n",
    "from matplotlib.gridspec import GridSpec\n",
    "import seaborn as sns\n",
    "\n",
    "import vrlatency as vrl\n",
    "\n",
    "# %matplotlib tk"
   ]
  },
  {
   "cell_type": "code",
   "execution_count": 4,
   "metadata": {},
   "outputs": [],
   "source": [
    "data_path = \"../../data/\"\n",
    "figure_path = \"../../figures/\""
   ]
  },
  {
   "cell_type": "code",
   "execution_count": 5,
   "metadata": {},
   "outputs": [],
   "source": [
    "os.chdir(data_path)"
   ]
  },
  {
   "cell_type": "code",
   "execution_count": 8,
   "metadata": {},
   "outputs": [
    {
     "name": "stdout",
     "output_type": "stream",
     "text": [
      "tracking_20181010_121538.csv\n",
      "tracking_20181010_121719.csv\n",
      "tracking_20181010_121942.csv\n",
      "tracking_20181010_122129.csv\n",
      "tracking_20181010_122259.csv\n"
     ]
    }
   ],
   "source": [
    "filenames = []\n",
    "for filename in glob.glob(\"*.csv\"):\n",
    "    if filename.split('_')[0] == 'tracking':\n",
    "        print(filename)\n",
    "        filenames.append(filename)"
   ]
  },
  {
   "cell_type": "code",
   "execution_count": 9,
   "metadata": {},
   "outputs": [],
   "source": [
    "session_number = 0\n",
    "filename = filenames[session_number]\n",
    "session_name = filename.split('.')[0]\n",
    "dfd = vrl.read_csv(filename)"
   ]
  },
  {
   "cell_type": "code",
   "execution_count": 10,
   "metadata": {},
   "outputs": [
    {
     "data": {
      "text/html": [
       "<div>\n",
       "<style scoped>\n",
       "    .dataframe tbody tr th:only-of-type {\n",
       "        vertical-align: middle;\n",
       "    }\n",
       "\n",
       "    .dataframe tbody tr th {\n",
       "        vertical-align: top;\n",
       "    }\n",
       "\n",
       "    .dataframe thead th {\n",
       "        text-align: right;\n",
       "    }\n",
       "</style>\n",
       "<table border=\"1\" class=\"dataframe\">\n",
       "  <thead>\n",
       "    <tr style=\"text-align: right;\">\n",
       "      <th></th>\n",
       "      <th>Trial</th>\n",
       "      <th>Time</th>\n",
       "      <th>RigidBody_Position</th>\n",
       "      <th>LED_Position</th>\n",
       "    </tr>\n",
       "  </thead>\n",
       "  <tbody>\n",
       "    <tr>\n",
       "      <th>0</th>\n",
       "      <td>2</td>\n",
       "      <td>4.636990</td>\n",
       "      <td>1.025364</td>\n",
       "      <td>L</td>\n",
       "    </tr>\n",
       "    <tr>\n",
       "      <th>1</th>\n",
       "      <td>2</td>\n",
       "      <td>4.637638</td>\n",
       "      <td>1.025364</td>\n",
       "      <td>L</td>\n",
       "    </tr>\n",
       "    <tr>\n",
       "      <th>2</th>\n",
       "      <td>2</td>\n",
       "      <td>4.638669</td>\n",
       "      <td>1.025364</td>\n",
       "      <td>L</td>\n",
       "    </tr>\n",
       "    <tr>\n",
       "      <th>3</th>\n",
       "      <td>2</td>\n",
       "      <td>4.639693</td>\n",
       "      <td>1.025364</td>\n",
       "      <td>L</td>\n",
       "    </tr>\n",
       "    <tr>\n",
       "      <th>4</th>\n",
       "      <td>2</td>\n",
       "      <td>4.640636</td>\n",
       "      <td>1.025366</td>\n",
       "      <td>L</td>\n",
       "    </tr>\n",
       "  </tbody>\n",
       "</table>\n",
       "</div>"
      ],
      "text/plain": [
       "   Trial      Time  RigidBody_Position LED_Position\n",
       "0      2  4.636990            1.025364            L\n",
       "1      2  4.637638            1.025364            L\n",
       "2      2  4.638669            1.025364            L\n",
       "3      2  4.639693            1.025364            L\n",
       "4      2  4.640636            1.025366            L"
      ]
     },
     "execution_count": 10,
     "metadata": {},
     "output_type": "execute_result"
    }
   ],
   "source": [
    "dfd.head()"
   ]
  },
  {
   "cell_type": "code",
   "execution_count": 11,
   "metadata": {},
   "outputs": [],
   "source": [
    "dfd_transformed = vrl.analysis.transform_tracking_df(dfd, session=session_name)"
   ]
  },
  {
   "cell_type": "code",
   "execution_count": 12,
   "metadata": {},
   "outputs": [
    {
     "data": {
      "text/html": [
       "<div>\n",
       "<style scoped>\n",
       "    .dataframe tbody tr th:only-of-type {\n",
       "        vertical-align: middle;\n",
       "    }\n",
       "\n",
       "    .dataframe tbody tr th {\n",
       "        vertical-align: top;\n",
       "    }\n",
       "\n",
       "    .dataframe thead th {\n",
       "        text-align: right;\n",
       "    }\n",
       "</style>\n",
       "<table border=\"1\" class=\"dataframe\">\n",
       "  <thead>\n",
       "    <tr style=\"text-align: right;\">\n",
       "      <th></th>\n",
       "      <th>Session</th>\n",
       "      <th>Trial</th>\n",
       "      <th>Sample</th>\n",
       "      <th>Time</th>\n",
       "      <th>RigidBody_Position</th>\n",
       "      <th>RigidBody_Position_norm</th>\n",
       "      <th>LED_Position</th>\n",
       "      <th>LED_State</th>\n",
       "      <th>TrackingLatency</th>\n",
       "    </tr>\n",
       "  </thead>\n",
       "  <tbody>\n",
       "    <tr>\n",
       "      <th>0</th>\n",
       "      <td>tracking_20181010_121538</td>\n",
       "      <td>2</td>\n",
       "      <td>0</td>\n",
       "      <td>0.000000</td>\n",
       "      <td>1.025364</td>\n",
       "      <td>-0.006917</td>\n",
       "      <td>L</td>\n",
       "      <td>0.007067</td>\n",
       "      <td>6.649078</td>\n",
       "    </tr>\n",
       "    <tr>\n",
       "      <th>1</th>\n",
       "      <td>tracking_20181010_121538</td>\n",
       "      <td>2</td>\n",
       "      <td>1</td>\n",
       "      <td>0.647782</td>\n",
       "      <td>1.025364</td>\n",
       "      <td>-0.006917</td>\n",
       "      <td>L</td>\n",
       "      <td>0.007067</td>\n",
       "      <td>6.649078</td>\n",
       "    </tr>\n",
       "    <tr>\n",
       "      <th>2</th>\n",
       "      <td>tracking_20181010_121538</td>\n",
       "      <td>2</td>\n",
       "      <td>2</td>\n",
       "      <td>1.678644</td>\n",
       "      <td>1.025364</td>\n",
       "      <td>-0.006917</td>\n",
       "      <td>L</td>\n",
       "      <td>0.007067</td>\n",
       "      <td>6.649078</td>\n",
       "    </tr>\n",
       "    <tr>\n",
       "      <th>3</th>\n",
       "      <td>tracking_20181010_121538</td>\n",
       "      <td>2</td>\n",
       "      <td>3</td>\n",
       "      <td>2.702897</td>\n",
       "      <td>1.025364</td>\n",
       "      <td>-0.006917</td>\n",
       "      <td>L</td>\n",
       "      <td>0.007067</td>\n",
       "      <td>6.649078</td>\n",
       "    </tr>\n",
       "    <tr>\n",
       "      <th>4</th>\n",
       "      <td>tracking_20181010_121538</td>\n",
       "      <td>2</td>\n",
       "      <td>4</td>\n",
       "      <td>3.645726</td>\n",
       "      <td>1.025366</td>\n",
       "      <td>-0.006916</td>\n",
       "      <td>L</td>\n",
       "      <td>0.007067</td>\n",
       "      <td>6.649078</td>\n",
       "    </tr>\n",
       "  </tbody>\n",
       "</table>\n",
       "</div>"
      ],
      "text/plain": [
       "                    Session  Trial  Sample      Time  RigidBody_Position  \\\n",
       "0  tracking_20181010_121538      2       0  0.000000            1.025364   \n",
       "1  tracking_20181010_121538      2       1  0.647782            1.025364   \n",
       "2  tracking_20181010_121538      2       2  1.678644            1.025364   \n",
       "3  tracking_20181010_121538      2       3  2.702897            1.025364   \n",
       "4  tracking_20181010_121538      2       4  3.645726            1.025366   \n",
       "\n",
       "   RigidBody_Position_norm LED_Position  LED_State  TrackingLatency  \n",
       "0                -0.006917            L   0.007067         6.649078  \n",
       "1                -0.006917            L   0.007067         6.649078  \n",
       "2                -0.006917            L   0.007067         6.649078  \n",
       "3                -0.006917            L   0.007067         6.649078  \n",
       "4                -0.006916            L   0.007067         6.649078  "
      ]
     },
     "execution_count": 12,
     "metadata": {},
     "output_type": "execute_result"
    }
   ],
   "source": [
    "dfd_transformed.head()"
   ]
  },
  {
   "cell_type": "markdown",
   "metadata": {},
   "source": [
    "---"
   ]
  },
  {
   "cell_type": "code",
   "execution_count": 13,
   "metadata": {},
   "outputs": [],
   "source": [
    "plt.rcParams.update({'font.size': 20})"
   ]
  },
  {
   "cell_type": "markdown",
   "metadata": {},
   "source": [
    "## Rigid body position in time, with lines showing the trial onset"
   ]
  },
  {
   "cell_type": "markdown",
   "metadata": {},
   "source": [
    "Let's select several trials for visualization"
   ]
  },
  {
   "cell_type": "code",
   "execution_count": 15,
   "metadata": {},
   "outputs": [],
   "source": [
    "dd = dfd_transformed.loc[dfd_transformed['Trial'] < 10]"
   ]
  },
  {
   "cell_type": "code",
   "execution_count": 16,
   "metadata": {},
   "outputs": [
    {
     "data": {
      "image/png": "[encoded data removed]",
      "text/plain": [
       "<Figure size 720x288 with 2 Axes>"
      ]
     },
     "metadata": {
      "needs_background": "light"
     },
     "output_type": "display_data"
    }
   ],
   "source": [
    "fig, ax = plt.subplots(figsize=(10, 4))\n",
    "# vrl.analysis.plot_rb_position(dd['Time'], dd['RigidBody_Position_norm'], ax=ax);\n",
    "ax.plot(dd['Time'], dd['RigidBody_Position_norm'] * 1000, color='k')\n",
    "trial_init_time = dd.groupby('Trial').Time.apply(lambda x: x.min()).values\n",
    "vrl.analysis.plot_trial_init(trial_init_time, ax=ax)\n",
    "ax.set(xlabel='Time (ms)', ylabel='Rigid Body Position (mm)');\n",
    "\n",
    "ax2 = ax.twinx()\n",
    "ax2.plot(dd['Time'], dd['RigidBody_Position_norm'] * 1000, color='k')\n",
    "trial_init_time = dd.groupby('Trial').Time.apply(lambda x: x.min()).values\n",
    "vrl.analysis.plot_trial_init(trial_init_time, ax=ax2)\n",
    "plt.yticks([dd['RigidBody_Position_norm'].min() * 1000, dd['RigidBody_Position_norm'].max() * 1000], ['R', 'L'])\n",
    "ax2.set(ylabel='LED Position');\n",
    "fig.tight_layout()\n",
    "\n",
    "# plt.savefig(figure_path + 'tracking_a' + '_session' + str(session_number) + '.png', transparent=False)"
   ]
  },
  {
   "cell_type": "markdown",
   "metadata": {},
   "source": [
    "## Trials versus latency (with distribution)"
   ]
  },
  {
   "cell_type": "code",
   "execution_count": 25,
   "metadata": {},
   "outputs": [
    {
     "data": {
      "image/png": "[encoded data removed]",
      "text/plain": [
       "<Figure size 720x288 with 2 Axes>"
      ]
     },
     "metadata": {
      "needs_background": "light"
     },
     "output_type": "display_data"
    }
   ],
   "source": [
    "fig, (ax1, ax2) = plt.subplots(1, 2, figsize=(10, 4), gridspec_kw={'width_ratios': [3, 1]}, sharey=True)\n",
    "vrl.analysis.plot_tracking_latency_over_session(dfd_transformed.Trial, dfd_transformed.TrackingLatency, ax=ax1)\n",
    "ax1.set(xlabel='Trial number', ylabel='Latency (ms)')\n",
    "sns.despine(top=True, ax=ax1)\n",
    "\n",
    "vrl.analysis.plot_tracking_latency_distribution(dfd_transformed['TrackingLatency'].unique(), ax=ax2)\n",
    "sns.despine(top=True, bottom=True, ax=ax2)\n",
    "ax2.set(xticklabels='')\n",
    "fig.tight_layout(w_pad=0)\n",
    "\n",
    "# plt.savefig(figure_path + 'tracking_b' + '_session' + str(session_number) + '.png', transparent=False)"
   ]
  },
  {
   "cell_type": "markdown",
   "metadata": {},
   "source": [
    "## Latency distribution alone\n",
    "\n",
    "Enables comparison between different tracking latency measurements"
   ]
  },
  {
   "cell_type": "code",
   "execution_count": 27,
   "metadata": {},
   "outputs": [],
   "source": [
    "latencies = dfd_transformed['TrackingLatency'].unique()"
   ]
  },
  {
   "cell_type": "code",
   "execution_count": 28,
   "metadata": {},
   "outputs": [
    {
     "data": {
      "image/png": "[encoded data removed]",
      "text/plain": [
       "<Figure size 720x288 with 1 Axes>"
      ]
     },
     "metadata": {
      "needs_background": "light"
     },
     "output_type": "display_data"
    }
   ],
   "source": [
    "fig, ax = plt.subplots(figsize=(10, 4))\n",
    "sns.despine(left=True)\n",
    "\n",
    "data = latencies[np.isnan(latencies) == False]\n",
    "sns.distplot(data, hist=False, color=\"k\", kde_kws={\"linewidth\": 5, \"alpha\": 1}, ax=ax);\n",
    "# ax.set(xlabel='Latency (ms)', ylabel='Frequency (normalized)');\n",
    "ax.set(xlabel='Latency (ms)', ylabel='');\n",
    "plt.yticks([]);"
   ]
  },
  {
   "cell_type": "markdown",
   "metadata": {},
   "source": [
    "---"
   ]
  },
  {
   "cell_type": "markdown",
   "metadata": {},
   "source": [
    "## Comparing multiple latency measurements data"
   ]
  },
  {
   "cell_type": "markdown",
   "metadata": {},
   "source": [
    "- Read the data for all the (selected) experiments and put them in a single dataframe\n",
    "- Read the parameters fora ll the (selected) experiments and put them in a single dataframe\n",
    "- merge the data dataframe and the paramters dataframe\n",
    "- then we are set"
   ]
  },
  {
   "cell_type": "markdown",
   "metadata": {},
   "source": [
    "### Read several data and save the latency dataframe"
   ]
  },
  {
   "cell_type": "code",
   "execution_count": 54,
   "metadata": {},
   "outputs": [
    {
     "name": "stdout",
     "output_type": "stream",
     "text": [
      "tracking_20181010_121538.csv\n",
      "tracking_20181010_121719.csv\n",
      "tracking_20181010_121942.csv\n",
      "tracking_20181010_122129.csv\n",
      "tracking_20181010_122259.csv\n"
     ]
    }
   ],
   "source": [
    "dfl_all = pd.DataFrame()\n",
    "\n",
    "for filename in filenames:\n",
    "    print(filename)\n",
    "\n",
    "    dfd = vrl.read_csv(filename)\n",
    "    dfd['Time'] *= 1000\n",
    "    dfd['Session'] = filename.split('.')[0]\n",
    "    dfl = vrl.get_tracking_latencies(dfd).to_frame().reset_index()\n",
    "    df = pd.merge(dfd, dfl, on='Trial')\n",
    "    \n",
    "    dfl_all = dfl_all.append(df)"
   ]
  },
  {
   "cell_type": "code",
   "execution_count": 56,
   "metadata": {},
   "outputs": [],
   "source": [
    "params = {'Session': [filename.split('.')[0] for filename in filenames], \n",
    "          'TrackingRate': [240, 240, 120, 60, 30], \n",
    "          'ExposureTime': [0.5, 1.0, 0.5, 0.5, 0.5],\n",
    "          'TrackingAlgorithm': [1, 1, 1, 1, 1],\n",
    "          'VideoType': ['Object Mode', 'Object Mode', 'Object Mode', 'Object Mode', 'Object Mode']}"
   ]
  },
  {
   "cell_type": "code",
   "execution_count": 59,
   "metadata": {},
   "outputs": [
    {
     "data": {
      "text/html": [
       "<div>\n",
       "<style scoped>\n",
       "    .dataframe tbody tr th:only-of-type {\n",
       "        vertical-align: middle;\n",
       "    }\n",
       "\n",
       "    .dataframe tbody tr th {\n",
       "        vertical-align: top;\n",
       "    }\n",
       "\n",
       "    .dataframe thead th {\n",
       "        text-align: right;\n",
       "    }\n",
       "</style>\n",
       "<table border=\"1\" class=\"dataframe\">\n",
       "  <thead>\n",
       "    <tr style=\"text-align: right;\">\n",
       "      <th></th>\n",
       "      <th>Session</th>\n",
       "      <th>TrackingRate</th>\n",
       "      <th>ExposureTime</th>\n",
       "      <th>TrackingAlgorithm</th>\n",
       "      <th>VideoType</th>\n",
       "    </tr>\n",
       "  </thead>\n",
       "  <tbody>\n",
       "    <tr>\n",
       "      <th>0</th>\n",
       "      <td>tracking_20181010_121538</td>\n",
       "      <td>240</td>\n",
       "      <td>0.5</td>\n",
       "      <td>1</td>\n",
       "      <td>Object Mode</td>\n",
       "    </tr>\n",
       "    <tr>\n",
       "      <th>1</th>\n",
       "      <td>tracking_20181010_121719</td>\n",
       "      <td>240</td>\n",
       "      <td>1.0</td>\n",
       "      <td>1</td>\n",
       "      <td>Object Mode</td>\n",
       "    </tr>\n",
       "    <tr>\n",
       "      <th>2</th>\n",
       "      <td>tracking_20181010_121942</td>\n",
       "      <td>120</td>\n",
       "      <td>0.5</td>\n",
       "      <td>1</td>\n",
       "      <td>Object Mode</td>\n",
       "    </tr>\n",
       "    <tr>\n",
       "      <th>3</th>\n",
       "      <td>tracking_20181010_122129</td>\n",
       "      <td>60</td>\n",
       "      <td>0.5</td>\n",
       "      <td>1</td>\n",
       "      <td>Object Mode</td>\n",
       "    </tr>\n",
       "    <tr>\n",
       "      <th>4</th>\n",
       "      <td>tracking_20181010_122259</td>\n",
       "      <td>30</td>\n",
       "      <td>0.5</td>\n",
       "      <td>1</td>\n",
       "      <td>Object Mode</td>\n",
       "    </tr>\n",
       "  </tbody>\n",
       "</table>\n",
       "</div>"
      ],
      "text/plain": [
       "                    Session  TrackingRate  ExposureTime  TrackingAlgorithm  \\\n",
       "0  tracking_20181010_121538           240           0.5                  1   \n",
       "1  tracking_20181010_121719           240           1.0                  1   \n",
       "2  tracking_20181010_121942           120           0.5                  1   \n",
       "3  tracking_20181010_122129            60           0.5                  1   \n",
       "4  tracking_20181010_122259            30           0.5                  1   \n",
       "\n",
       "     VideoType  \n",
       "0  Object Mode  \n",
       "1  Object Mode  \n",
       "2  Object Mode  \n",
       "3  Object Mode  \n",
       "4  Object Mode  "
      ]
     },
     "execution_count": 59,
     "metadata": {},
     "output_type": "execute_result"
    }
   ],
   "source": [
    "dfp_all = pd.DataFrame(params)\n",
    "dfp_all.head()"
   ]
  },
  {
   "cell_type": "code",
   "execution_count": 62,
   "metadata": {},
   "outputs": [],
   "source": [
    "df_all = pd.merge(dfl_all, dfp_all, on='Session')\n",
    "\n",
    "df_all = df_all[['Session', 'Trial', 'TrackingRate', 'ExposureTime', 'TrackingAlgorithm', 'VideoType', 'TrackingLatency']]\n",
    "df_all.drop_duplicates(inplace=True)"
   ]
  },
  {
   "cell_type": "code",
   "execution_count": 64,
   "metadata": {},
   "outputs": [
    {
     "data": {
      "text/html": [
       "<div>\n",
       "<style scoped>\n",
       "    .dataframe tbody tr th:only-of-type {\n",
       "        vertical-align: middle;\n",
       "    }\n",
       "\n",
       "    .dataframe tbody tr th {\n",
       "        vertical-align: top;\n",
       "    }\n",
       "\n",
       "    .dataframe thead th {\n",
       "        text-align: right;\n",
       "    }\n",
       "</style>\n",
       "<table border=\"1\" class=\"dataframe\">\n",
       "  <thead>\n",
       "    <tr style=\"text-align: right;\">\n",
       "      <th></th>\n",
       "      <th>Session</th>\n",
       "      <th>Trial</th>\n",
       "      <th>TrackingRate</th>\n",
       "      <th>ExposureTime</th>\n",
       "      <th>TrackingAlgorithm</th>\n",
       "      <th>VideoType</th>\n",
       "      <th>TrackingLatency</th>\n",
       "    </tr>\n",
       "  </thead>\n",
       "  <tbody>\n",
       "    <tr>\n",
       "      <th>0</th>\n",
       "      <td>tracking_20181010_121538</td>\n",
       "      <td>2</td>\n",
       "      <td>240</td>\n",
       "      <td>0.5</td>\n",
       "      <td>1</td>\n",
       "      <td>Object Mode</td>\n",
       "      <td>6.649078</td>\n",
       "    </tr>\n",
       "    <tr>\n",
       "      <th>65</th>\n",
       "      <td>tracking_20181010_121538</td>\n",
       "      <td>3</td>\n",
       "      <td>240</td>\n",
       "      <td>0.5</td>\n",
       "      <td>1</td>\n",
       "      <td>Object Mode</td>\n",
       "      <td>7.750848</td>\n",
       "    </tr>\n",
       "    <tr>\n",
       "      <th>132</th>\n",
       "      <td>tracking_20181010_121538</td>\n",
       "      <td>4</td>\n",
       "      <td>240</td>\n",
       "      <td>0.5</td>\n",
       "      <td>1</td>\n",
       "      <td>Object Mode</td>\n",
       "      <td>7.692560</td>\n",
       "    </tr>\n",
       "    <tr>\n",
       "      <th>183</th>\n",
       "      <td>tracking_20181010_121538</td>\n",
       "      <td>5</td>\n",
       "      <td>240</td>\n",
       "      <td>0.5</td>\n",
       "      <td>1</td>\n",
       "      <td>Object Mode</td>\n",
       "      <td>6.716680</td>\n",
       "    </tr>\n",
       "    <tr>\n",
       "      <th>253</th>\n",
       "      <td>tracking_20181010_121538</td>\n",
       "      <td>6</td>\n",
       "      <td>240</td>\n",
       "      <td>0.5</td>\n",
       "      <td>1</td>\n",
       "      <td>Object Mode</td>\n",
       "      <td>7.190499</td>\n",
       "    </tr>\n",
       "  </tbody>\n",
       "</table>\n",
       "</div>"
      ],
      "text/plain": [
       "                      Session  Trial  TrackingRate  ExposureTime  \\\n",
       "0    tracking_20181010_121538      2           240           0.5   \n",
       "65   tracking_20181010_121538      3           240           0.5   \n",
       "132  tracking_20181010_121538      4           240           0.5   \n",
       "183  tracking_20181010_121538      5           240           0.5   \n",
       "253  tracking_20181010_121538      6           240           0.5   \n",
       "\n",
       "     TrackingAlgorithm    VideoType  TrackingLatency  \n",
       "0                    1  Object Mode         6.649078  \n",
       "65                   1  Object Mode         7.750848  \n",
       "132                  1  Object Mode         7.692560  \n",
       "183                  1  Object Mode         6.716680  \n",
       "253                  1  Object Mode         7.190499  "
      ]
     },
     "execution_count": 64,
     "metadata": {},
     "output_type": "execute_result"
    }
   ],
   "source": [
    "df_all.head()"
   ]
  },
  {
   "cell_type": "markdown",
   "metadata": {},
   "source": [
    "## Latency distribution for different session"
   ]
  },
  {
   "cell_type": "code",
   "execution_count": 65,
   "metadata": {},
   "outputs": [
    {
     "name": "stdout",
     "output_type": "stream",
     "text": [
      "30\n",
      "60\n",
      "120\n",
      "240\n"
     ]
    },
    {
     "data": {
      "image/png": "[encoded data removed]",
      "text/plain": [
       "<Figure size 720x288 with 1 Axes>"
      ]
     },
     "metadata": {
      "needs_background": "light"
     },
     "output_type": "display_data"
    }
   ],
   "source": [
    "fig, ax = plt.subplots(figsize=(10, 4))\n",
    "sns.despine(left=True)\n",
    "\n",
    "for name, dd in df_all.groupby('TrackingRate'):\n",
    "    print(name)\n",
    "    sns.distplot(dd.TrackingLatency.values, hist=False, kde_kws={\"linewidth\": 5, \"alpha\": 1}, ax=ax)\n",
    "    \n",
    "ax.set(xlabel='Latency (ms)', ylabel='');\n",
    "plt.yticks([]);\n",
    "fig.tight_layout()\n"
   ]
  },
  {
   "cell_type": "code",
   "execution_count": null,
   "metadata": {},
   "outputs": [],
   "source": []
  },
  {
   "cell_type": "code",
   "execution_count": 15,
   "metadata": {},
   "outputs": [
    {
     "name": "stdout",
     "output_type": "stream",
     "text": [
      "tracking_20181003_192844.csv\n",
      "tracking_20181003_193319.csv\n",
      "tracking_20181005_165731.csv\n",
      "tracking_20181005_171454.csv\n",
      "tracking_20181005_171821.csv\n",
      "tracking_20181005_172311.csv\n",
      "tracking_20181005_173035.csv\n"
     ]
    },
    {
     "data": {
      "image/png": "[encoded data removed]",
      "text/plain": [
       "<Figure size 720x288 with 1 Axes>"
      ]
     },
     "metadata": {
      "needs_background": "light"
     },
     "output_type": "display_data"
    }
   ],
   "source": [
    "fig, ax = plt.subplots(figsize=(10, 4))\n",
    "sns.despine(left=True)\n",
    "\n",
    "compare_these = filenames\n",
    "gs_color = np.linspace(.8, 0, len(compare_these))\n",
    "\n",
    "for ind, filename in enumerate(compare_these):\n",
    "    print(filename)\n",
    "    dfd = vrl.read_csv(filename)\n",
    "    dfd_transformed = vrl.analysis.transform_tracking_df(dfd, session=session_name)\n",
    "    latencies = dfd_transformed['TrackingLatency'].values\n",
    "    data = latencies[np.isnan(latencies) == False]\n",
    "    sns.distplot(data, color=str(gs_color[ind]), hist=False, kde_kws={\"linewidth\": 5, \"alpha\": 1}, ax=ax)\n",
    "    \n",
    "ax.set(xlabel='Latency (ms)', ylabel='')\n",
    "plt.yticks([]);\n",
    "fig.tight_layout()\n",
    "\n",
    "plt.savefig(figure_path + 'tracking_c' + '_session' + str(session_number) + '.png', transparent=False)"
   ]
  },
  {
   "cell_type": "code",
   "execution_count": null,
   "metadata": {},
   "outputs": [],
   "source": []
  }
 ],
 "metadata": {
  "kernelspec": {
   "display_name": "Python 3",
   "language": "python",
   "name": "python3"
  },
  "language_info": {
   "codemirror_mode": {
    "name": "ipython",
    "version": 3
   },
   "file_extension": ".py",
   "mimetype": "text/x-python",
   "name": "python",
   "nbconvert_exporter": "python",
   "pygments_lexer": "ipython3",
   "version": "3.6.5"
  }
 },
 "nbformat": 4,
 "nbformat_minor": 2
}
