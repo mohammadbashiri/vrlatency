{
 "cells": [
  {
   "cell_type": "markdown",
   "metadata": {},
   "source": [
    "# Figures for the Tracking experiment results"
   ]
  },
  {
   "cell_type": "markdown",
   "metadata": {},
   "source": [
    "First of all, let's reveiew what data do we have. we have:\n",
    "- the Rigid Body Position: This is the real time of the change in movement being reported to Python\n",
    "- the LED postion: this is when the actual movement happened, which is in the beginning of the trial\n",
    "- trial number\n",
    "- time\n",
    "\n",
    "\n",
    "Here is a list of figures needed for demonstrating (and interpreting) the tracking experiment results:\n",
    "\n",
    "- time vs. rigid body position for the whole experiment\n",
    "- time vs. led position\n",
    "- lines that mark beginning of the trial for the whole experiment\n",
    "- Trial vs. latency\n",
    "- Latency distribution\n",
    "\n"
   ]
  },
  {
   "cell_type": "code",
   "execution_count": 2,
   "metadata": {},
   "outputs": [],
   "source": [
    "import glob\n",
    "import os\n",
    "\n",
    "import numpy as np\n",
    "import pandas as pd\n",
    "import matplotlib.pyplot as plt\n",
    "from matplotlib.gridspec import GridSpec\n",
    "\n",
    "import vrlatency as vrl\n",
    "\n",
    "# %matplotlib tk"
   ]
  },
  {
   "cell_type": "code",
   "execution_count": 3,
   "metadata": {},
   "outputs": [],
   "source": [
    "data_path = \"../../data/Tracking\""
   ]
  },
  {
   "cell_type": "code",
   "execution_count": 4,
   "metadata": {},
   "outputs": [],
   "source": [
    "os.chdir(data_path)"
   ]
  },
  {
   "cell_type": "code",
   "execution_count": 5,
   "metadata": {},
   "outputs": [
    {
     "name": "stdout",
     "output_type": "stream",
     "text": [
      "tracking_20181003_192844.csv\n",
      "tracking_20181003_193319.csv\n",
      "tracking_20181005_165731.csv\n",
      "tracking_20181005_171454.csv\n",
      "tracking_20181005_171821.csv\n",
      "tracking_20181005_172311.csv\n",
      "tracking_20181005_173035.csv\n"
     ]
    }
   ],
   "source": [
    "filenames = []\n",
    "for filename in glob.glob(\"*.csv\"):\n",
    "    print(filename)\n",
    "    filenames.append(filename)"
   ]
  },
  {
   "cell_type": "code",
   "execution_count": 6,
   "metadata": {},
   "outputs": [],
   "source": [
    "filename = filenames[-1]\n",
    "session_name = filename.split('.')[0]\n",
    "dfd = vrl.read_csv(filename)"
   ]
  },
  {
   "cell_type": "code",
   "execution_count": 7,
   "metadata": {},
   "outputs": [
    {
     "data": {
      "text/html": [
       "<div>\n",
       "<style scoped>\n",
       "    .dataframe tbody tr th:only-of-type {\n",
       "        vertical-align: middle;\n",
       "    }\n",
       "\n",
       "    .dataframe tbody tr th {\n",
       "        vertical-align: top;\n",
       "    }\n",
       "\n",
       "    .dataframe thead th {\n",
       "        text-align: right;\n",
       "    }\n",
       "</style>\n",
       "<table border=\"1\" class=\"dataframe\">\n",
       "  <thead>\n",
       "    <tr style=\"text-align: right;\">\n",
       "      <th></th>\n",
       "      <th>Trial</th>\n",
       "      <th>Time</th>\n",
       "      <th>RigidBody_Position</th>\n",
       "      <th>LED_Position</th>\n",
       "    </tr>\n",
       "  </thead>\n",
       "  <tbody>\n",
       "    <tr>\n",
       "      <th>0</th>\n",
       "      <td>2</td>\n",
       "      <td>4.921589</td>\n",
       "      <td>1.025464</td>\n",
       "      <td>L</td>\n",
       "    </tr>\n",
       "    <tr>\n",
       "      <th>1</th>\n",
       "      <td>2</td>\n",
       "      <td>4.922530</td>\n",
       "      <td>1.025464</td>\n",
       "      <td>L</td>\n",
       "    </tr>\n",
       "    <tr>\n",
       "      <th>2</th>\n",
       "      <td>2</td>\n",
       "      <td>4.923523</td>\n",
       "      <td>1.025464</td>\n",
       "      <td>L</td>\n",
       "    </tr>\n",
       "    <tr>\n",
       "      <th>3</th>\n",
       "      <td>2</td>\n",
       "      <td>4.924438</td>\n",
       "      <td>1.025464</td>\n",
       "      <td>L</td>\n",
       "    </tr>\n",
       "    <tr>\n",
       "      <th>4</th>\n",
       "      <td>2</td>\n",
       "      <td>4.925417</td>\n",
       "      <td>1.025464</td>\n",
       "      <td>L</td>\n",
       "    </tr>\n",
       "  </tbody>\n",
       "</table>\n",
       "</div>"
      ],
      "text/plain": [
       "   Trial      Time  RigidBody_Position LED_Position\n",
       "0      2  4.921589            1.025464            L\n",
       "1      2  4.922530            1.025464            L\n",
       "2      2  4.923523            1.025464            L\n",
       "3      2  4.924438            1.025464            L\n",
       "4      2  4.925417            1.025464            L"
      ]
     },
     "execution_count": 7,
     "metadata": {},
     "output_type": "execute_result"
    }
   ],
   "source": [
    "dfd.head()"
   ]
  },
  {
   "cell_type": "code",
   "execution_count": 8,
   "metadata": {},
   "outputs": [],
   "source": [
    "dfd_transformed = vrl.analysis.transform_tracking_df(dfd, session=session_name)"
   ]
  },
  {
   "cell_type": "code",
   "execution_count": 64,
   "metadata": {},
   "outputs": [
    {
     "data": {
      "text/html": [
       "<div>\n",
       "<style scoped>\n",
       "    .dataframe tbody tr th:only-of-type {\n",
       "        vertical-align: middle;\n",
       "    }\n",
       "\n",
       "    .dataframe tbody tr th {\n",
       "        vertical-align: top;\n",
       "    }\n",
       "\n",
       "    .dataframe thead th {\n",
       "        text-align: right;\n",
       "    }\n",
       "</style>\n",
       "<table border=\"1\" class=\"dataframe\">\n",
       "  <thead>\n",
       "    <tr style=\"text-align: right;\">\n",
       "      <th></th>\n",
       "      <th>Session</th>\n",
       "      <th>Trial</th>\n",
       "      <th>Sample</th>\n",
       "      <th>Time</th>\n",
       "      <th>RigidBody_Position</th>\n",
       "      <th>RigidBody_Position_norm</th>\n",
       "      <th>LED_Position</th>\n",
       "      <th>LED_State</th>\n",
       "      <th>TrackingLatency</th>\n",
       "    </tr>\n",
       "  </thead>\n",
       "  <tbody>\n",
       "    <tr>\n",
       "      <th>0</th>\n",
       "      <td>tracking_20181005_173035</td>\n",
       "      <td>2</td>\n",
       "      <td>0</td>\n",
       "      <td>0.000000</td>\n",
       "      <td>1.025464</td>\n",
       "      <td>-0.007004</td>\n",
       "      <td>L</td>\n",
       "      <td>0.006963</td>\n",
       "      <td>8.937126</td>\n",
       "    </tr>\n",
       "    <tr>\n",
       "      <th>1</th>\n",
       "      <td>tracking_20181005_173035</td>\n",
       "      <td>2</td>\n",
       "      <td>1</td>\n",
       "      <td>0.940734</td>\n",
       "      <td>1.025464</td>\n",
       "      <td>-0.007004</td>\n",
       "      <td>L</td>\n",
       "      <td>0.006963</td>\n",
       "      <td>8.937126</td>\n",
       "    </tr>\n",
       "    <tr>\n",
       "      <th>2</th>\n",
       "      <td>tracking_20181005_173035</td>\n",
       "      <td>2</td>\n",
       "      <td>2</td>\n",
       "      <td>1.933448</td>\n",
       "      <td>1.025464</td>\n",
       "      <td>-0.007004</td>\n",
       "      <td>L</td>\n",
       "      <td>0.006963</td>\n",
       "      <td>8.937126</td>\n",
       "    </tr>\n",
       "    <tr>\n",
       "      <th>3</th>\n",
       "      <td>tracking_20181005_173035</td>\n",
       "      <td>2</td>\n",
       "      <td>3</td>\n",
       "      <td>2.848643</td>\n",
       "      <td>1.025464</td>\n",
       "      <td>-0.007004</td>\n",
       "      <td>L</td>\n",
       "      <td>0.006963</td>\n",
       "      <td>8.937126</td>\n",
       "    </tr>\n",
       "    <tr>\n",
       "      <th>4</th>\n",
       "      <td>tracking_20181005_173035</td>\n",
       "      <td>2</td>\n",
       "      <td>4</td>\n",
       "      <td>3.828137</td>\n",
       "      <td>1.025464</td>\n",
       "      <td>-0.007004</td>\n",
       "      <td>L</td>\n",
       "      <td>0.006963</td>\n",
       "      <td>8.937126</td>\n",
       "    </tr>\n",
       "  </tbody>\n",
       "</table>\n",
       "</div>"
      ],
      "text/plain": [
       "                    Session  Trial  Sample      Time  RigidBody_Position  \\\n",
       "0  tracking_20181005_173035      2       0  0.000000            1.025464   \n",
       "1  tracking_20181005_173035      2       1  0.940734            1.025464   \n",
       "2  tracking_20181005_173035      2       2  1.933448            1.025464   \n",
       "3  tracking_20181005_173035      2       3  2.848643            1.025464   \n",
       "4  tracking_20181005_173035      2       4  3.828137            1.025464   \n",
       "\n",
       "   RigidBody_Position_norm LED_Position  LED_State  TrackingLatency  \n",
       "0                -0.007004            L   0.006963         8.937126  \n",
       "1                -0.007004            L   0.006963         8.937126  \n",
       "2                -0.007004            L   0.006963         8.937126  \n",
       "3                -0.007004            L   0.006963         8.937126  \n",
       "4                -0.007004            L   0.006963         8.937126  "
      ]
     },
     "execution_count": 64,
     "metadata": {},
     "output_type": "execute_result"
    }
   ],
   "source": [
    "dfd_transformed.head()"
   ]
  },
  {
   "cell_type": "markdown",
   "metadata": {},
   "source": [
    "---"
   ]
  },
  {
   "cell_type": "markdown",
   "metadata": {},
   "source": [
    "## Rigid body position in time, with lines showing the trial onset"
   ]
  },
  {
   "cell_type": "markdown",
   "metadata": {},
   "source": [
    "Let's select several trials for visualization"
   ]
  },
  {
   "cell_type": "code",
   "execution_count": 31,
   "metadata": {},
   "outputs": [],
   "source": [
    "dd = dfd_transformed.loc[dfd_transformed['Trial'] < 20]"
   ]
  },
  {
   "cell_type": "code",
   "execution_count": 61,
   "metadata": {},
   "outputs": [
    {
     "data": {
      "image/png": "[encoded data removed]",
      "text/plain": [
       "<Figure size 720x288 with 2 Axes>"
      ]
     },
     "metadata": {
      "needs_background": "light"
     },
     "output_type": "display_data"
    }
   ],
   "source": [
    "fig, ax = plt.subplots(figsize=(10, 4))\n",
    "# vrl.analysis.plot_rb_position(dd['Time'], dd['RigidBody_Position_norm'], ax=ax);\n",
    "ax.plot(dd['Time'], dd['RigidBody_Position_norm'] * 1000)\n",
    "trial_init_time = dd.groupby('Trial').Time.apply(lambda x: x.min()).values\n",
    "vrl.analysis.plot_trial_init(trial_init_time, ax=ax)\n",
    "ax.set(xlabel='Time (ms)', ylabel='Rigid Body Position (mm)');\n",
    "\n",
    "ax2 = ax.twinx()\n",
    "ax2.plot(dd['Time'], dd['RigidBody_Position_norm'] * 1000)\n",
    "trial_init_time = dd.groupby('Trial').Time.apply(lambda x: x.min()).values\n",
    "vrl.analysis.plot_trial_init(trial_init_time, ax=ax2)\n",
    "plt.yticks([dd['RigidBody_Position_norm'].min() * 1000, dd['RigidBody_Position_norm'].max() * 1000], ['R', 'L'])\n",
    "ax2.set(ylabel='LED Position');"
   ]
  },
  {
   "cell_type": "markdown",
   "metadata": {},
   "source": [
    "## Trials versus latency"
   ]
  },
  {
   "cell_type": "code",
   "execution_count": 62,
   "metadata": {},
   "outputs": [],
   "source": [
    "plt.rcParams.update({'font.size': 20})"
   ]
  },
  {
   "cell_type": "code",
   "execution_count": 63,
   "metadata": {},
   "outputs": [
    {
     "data": {
      "image/png": "[encoded data removed]",
      "text/plain": [
       "<Figure size 720x288 with 2 Axes>"
      ]
     },
     "metadata": {
      "needs_background": "light"
     },
     "output_type": "display_data"
    }
   ],
   "source": [
    "fig, (ax1, ax2) = plt.subplots(1, 2, figsize=(10, 4), gridspec_kw={'width_ratios': [3, 1]}, sharey=True)\n",
    "vrl.analysis.plot_tracking_latency_over_session(dfd_transformed.Trial, dfd_transformed.TrackingLatency, ax=ax1)\n",
    "ax1.set(xlabel='Trial number', ylabel='Latency (ms)')\n",
    "\n",
    "vrl.analysis.plot_tracking_latency_distribution(dfd_transformed['TrackingLatency'].values, ax=ax2)\n",
    "ax2.set(xticklabels='')\n",
    "fig.tight_layout(w_pad=0)"
   ]
  },
  {
   "cell_type": "code",
   "execution_count": null,
   "metadata": {},
   "outputs": [],
   "source": []
  }
 ],
 "metadata": {
  "kernelspec": {
   "display_name": "Python 3",
   "language": "python",
   "name": "python3"
  },
  "language_info": {
   "codemirror_mode": {
    "name": "ipython",
    "version": 3
   },
   "file_extension": ".py",
   "mimetype": "text/x-python",
   "name": "python",
   "nbconvert_exporter": "python",
   "pygments_lexer": "ipython3",
   "version": "3.6.5"
  }
 },
 "nbformat": 4,
 "nbformat_minor": 2
}
