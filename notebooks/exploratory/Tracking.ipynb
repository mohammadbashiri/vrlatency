{
 "cells": [
  {
   "cell_type": "code",
   "execution_count": 38,
   "metadata": {},
   "outputs": [],
   "source": [
    "import matplotlib.pyplot as plt\n",
    "import pandas as pd\n",
    "import os\n",
    "import glob\n",
    "\n",
    "import vrlatency as vrl\n",
    "\n",
    "%matplotlib tk"
   ]
  },
  {
   "cell_type": "markdown",
   "metadata": {},
   "source": [
    "Set the path tos ave stuff"
   ]
  },
  {
   "cell_type": "code",
   "execution_count": 2,
   "metadata": {},
   "outputs": [],
   "source": [
    "path_data = \"../../data/\"\n",
    "path_fig = \"../../Figures/display/\"\n",
    "\n",
    "os.chdir(path_data)"
   ]
  },
  {
   "cell_type": "code",
   "execution_count": 3,
   "metadata": {},
   "outputs": [
    {
     "name": "stdout",
     "output_type": "stream",
     "text": [
      "tracking\n",
      "tracking\n"
     ]
    }
   ],
   "source": [
    "filenames = []\n",
    "for ind, filename in enumerate(glob.glob('*.csv')):\n",
    "    exp_type = filename.split('_')[0]\n",
    "    if exp_type == 'tracking':\n",
    "        filenames.append(filename)\n",
    "        print(filename.split('_')[0])"
   ]
  },
  {
   "cell_type": "code",
   "execution_count": 4,
   "metadata": {},
   "outputs": [
    {
     "data": {
      "text/plain": [
       "'tracking_20181003_193319.csv'"
      ]
     },
     "execution_count": 4,
     "metadata": {},
     "output_type": "execute_result"
    }
   ],
   "source": [
    "filename = filenames[-1]\n",
    "filename"
   ]
  },
  {
   "cell_type": "code",
   "execution_count": 41,
   "metadata": {},
   "outputs": [
    {
     "data": {
      "text/html": [
       "<div>\n",
       "<style scoped>\n",
       "    .dataframe tbody tr th:only-of-type {\n",
       "        vertical-align: middle;\n",
       "    }\n",
       "\n",
       "    .dataframe tbody tr th {\n",
       "        vertical-align: top;\n",
       "    }\n",
       "\n",
       "    .dataframe thead th {\n",
       "        text-align: right;\n",
       "    }\n",
       "</style>\n",
       "<table border=\"1\" class=\"dataframe\">\n",
       "  <thead>\n",
       "    <tr style=\"text-align: right;\">\n",
       "      <th></th>\n",
       "      <th>Trial</th>\n",
       "      <th>Time</th>\n",
       "      <th>RigidBody_Position</th>\n",
       "      <th>LED_Position</th>\n",
       "    </tr>\n",
       "  </thead>\n",
       "  <tbody>\n",
       "    <tr>\n",
       "      <th>105411</th>\n",
       "      <td>1001</td>\n",
       "      <td>167.027963</td>\n",
       "      <td>1.049326</td>\n",
       "      <td>R</td>\n",
       "    </tr>\n",
       "    <tr>\n",
       "      <th>105412</th>\n",
       "      <td>1001</td>\n",
       "      <td>167.028960</td>\n",
       "      <td>1.049319</td>\n",
       "      <td>R</td>\n",
       "    </tr>\n",
       "    <tr>\n",
       "      <th>105413</th>\n",
       "      <td>1001</td>\n",
       "      <td>167.029954</td>\n",
       "      <td>1.049319</td>\n",
       "      <td>R</td>\n",
       "    </tr>\n",
       "    <tr>\n",
       "      <th>105414</th>\n",
       "      <td>1001</td>\n",
       "      <td>167.030945</td>\n",
       "      <td>1.049319</td>\n",
       "      <td>R</td>\n",
       "    </tr>\n",
       "    <tr>\n",
       "      <th>105415</th>\n",
       "      <td>1001</td>\n",
       "      <td>167.031947</td>\n",
       "      <td>1.049319</td>\n",
       "      <td>R</td>\n",
       "    </tr>\n",
       "  </tbody>\n",
       "</table>\n",
       "</div>"
      ],
      "text/plain": [
       "        Trial        Time  RigidBody_Position LED_Position\n",
       "105411   1001  167.027963            1.049326            R\n",
       "105412   1001  167.028960            1.049319            R\n",
       "105413   1001  167.029954            1.049319            R\n",
       "105414   1001  167.030945            1.049319            R\n",
       "105415   1001  167.031947            1.049319            R"
      ]
     },
     "execution_count": 41,
     "metadata": {},
     "output_type": "execute_result"
    }
   ],
   "source": [
    "dfd = vrl.read_csv(filename)\n",
    "dfd.tail()"
   ]
  },
  {
   "cell_type": "markdown",
   "metadata": {},
   "source": [
    "## Transformation"
   ]
  },
  {
   "cell_type": "code",
   "execution_count": 45,
   "metadata": {},
   "outputs": [
    {
     "data": {
      "text/html": [
       "<div>\n",
       "<style scoped>\n",
       "    .dataframe tbody tr th:only-of-type {\n",
       "        vertical-align: middle;\n",
       "    }\n",
       "\n",
       "    .dataframe tbody tr th {\n",
       "        vertical-align: top;\n",
       "    }\n",
       "\n",
       "    .dataframe thead th {\n",
       "        text-align: right;\n",
       "    }\n",
       "</style>\n",
       "<table border=\"1\" class=\"dataframe\">\n",
       "  <thead>\n",
       "    <tr style=\"text-align: right;\">\n",
       "      <th></th>\n",
       "      <th>Session</th>\n",
       "      <th>Trial</th>\n",
       "      <th>Sample</th>\n",
       "      <th>Time</th>\n",
       "      <th>RigidBody_Position</th>\n",
       "      <th>RigidBody_Position_norm</th>\n",
       "      <th>LED_Position</th>\n",
       "      <th>LED_State</th>\n",
       "      <th>TrackingLatency</th>\n",
       "    </tr>\n",
       "  </thead>\n",
       "  <tbody>\n",
       "    <tr>\n",
       "      <th>0</th>\n",
       "      <td>tracking_20181003_193319</td>\n",
       "      <td>2</td>\n",
       "      <td>0</td>\n",
       "      <td>4.785723e+06</td>\n",
       "      <td>1.049319</td>\n",
       "      <td>-0.007022</td>\n",
       "      <td>L</td>\n",
       "      <td>0.007111</td>\n",
       "      <td>6356.792201</td>\n",
       "    </tr>\n",
       "    <tr>\n",
       "      <th>1</th>\n",
       "      <td>tracking_20181003_193319</td>\n",
       "      <td>2</td>\n",
       "      <td>1</td>\n",
       "      <td>4.786143e+06</td>\n",
       "      <td>1.049319</td>\n",
       "      <td>-0.007022</td>\n",
       "      <td>L</td>\n",
       "      <td>0.007111</td>\n",
       "      <td>6356.792201</td>\n",
       "    </tr>\n",
       "    <tr>\n",
       "      <th>2</th>\n",
       "      <td>tracking_20181003_193319</td>\n",
       "      <td>2</td>\n",
       "      <td>2</td>\n",
       "      <td>4.787107e+06</td>\n",
       "      <td>1.049319</td>\n",
       "      <td>-0.007022</td>\n",
       "      <td>L</td>\n",
       "      <td>0.007111</td>\n",
       "      <td>6356.792201</td>\n",
       "    </tr>\n",
       "    <tr>\n",
       "      <th>3</th>\n",
       "      <td>tracking_20181003_193319</td>\n",
       "      <td>2</td>\n",
       "      <td>3</td>\n",
       "      <td>4.788110e+06</td>\n",
       "      <td>1.049319</td>\n",
       "      <td>-0.007022</td>\n",
       "      <td>L</td>\n",
       "      <td>0.007111</td>\n",
       "      <td>6356.792201</td>\n",
       "    </tr>\n",
       "    <tr>\n",
       "      <th>4</th>\n",
       "      <td>tracking_20181003_193319</td>\n",
       "      <td>2</td>\n",
       "      <td>4</td>\n",
       "      <td>4.789135e+06</td>\n",
       "      <td>1.049319</td>\n",
       "      <td>-0.007022</td>\n",
       "      <td>L</td>\n",
       "      <td>0.007111</td>\n",
       "      <td>6356.792201</td>\n",
       "    </tr>\n",
       "  </tbody>\n",
       "</table>\n",
       "</div>"
      ],
      "text/plain": [
       "                    Session  Trial  Sample          Time  RigidBody_Position  \\\n",
       "0  tracking_20181003_193319      2       0  4.785723e+06            1.049319   \n",
       "1  tracking_20181003_193319      2       1  4.786143e+06            1.049319   \n",
       "2  tracking_20181003_193319      2       2  4.787107e+06            1.049319   \n",
       "3  tracking_20181003_193319      2       3  4.788110e+06            1.049319   \n",
       "4  tracking_20181003_193319      2       4  4.789135e+06            1.049319   \n",
       "\n",
       "   RigidBody_Position_norm LED_Position  LED_State  TrackingLatency  \n",
       "0                -0.007022            L   0.007111      6356.792201  \n",
       "1                -0.007022            L   0.007111      6356.792201  \n",
       "2                -0.007022            L   0.007111      6356.792201  \n",
       "3                -0.007022            L   0.007111      6356.792201  \n",
       "4                -0.007022            L   0.007111      6356.792201  "
      ]
     },
     "execution_count": 45,
     "metadata": {},
     "output_type": "execute_result"
    }
   ],
   "source": [
    "# time to millisecond\n",
    "dfd['Time'] *= 1000\n",
    "dfd['Sample'] = dfd.groupby('Trial').cumcount()\n",
    "dfd['RigidBody_Position_norm'] = dfd['RigidBody_Position'] - dfd.RigidBody_Position.mean()\n",
    "\n",
    "dfd['LED_State'] = dfd['RigidBody_Position_norm'].max()\n",
    "dfd.loc[dfd['LED_Position'] == 'R', 'LED_State'] = dfd['RigidBody_Position_norm'].min()\n",
    "\n",
    "dfd['Session'] = filename.split('.')[0]\n",
    "dfd['Session'] = pd.Categorical(dfd['Session'])\n",
    "dfd = dfd.reindex(['Session', 'Trial', 'Sample', 'Time', 'RigidBody_Position', 'RigidBody_Position_norm', 'LED_Position', 'LED_State'], axis=1)\n",
    "\n",
    "dfl = vrl.get_tracking_latencies(dfd).to_frame().reset_index()\n",
    "df = pd.merge(dfd, dfl, on='Trial')\n",
    "\n",
    "df.head()"
   ]
  },
  {
   "cell_type": "code",
   "execution_count": 46,
   "metadata": {},
   "outputs": [],
   "source": [
    "trial_init_time = dfd.groupby('Trial').Time.apply(lambda x: x.min()).values"
   ]
  },
  {
   "cell_type": "code",
   "execution_count": 49,
   "metadata": {},
   "outputs": [],
   "source": [
    "fig, ax = plt.subplots(figsize=(10,5))\n",
    "\n",
    "ax.plot(df.Time, df.RigidBody_Position_norm, c='k')\n",
    "ax.plot(df.Time, df.LED_State, c='g')\n",
    "ax.scatter(df.Time, df.RigidBody_Position_norm, c='k', alpha=.3)\n",
    "ax.vlines(trial_init_time, *plt.gca().get_ylim(), 'r');\n",
    "\n",
    "ax.set(xlabel='Time (ms)', ylabel='Rigid body position (cm)');"
   ]
  },
  {
   "cell_type": "code",
   "execution_count": 14,
   "metadata": {},
   "outputs": [
    {
     "data": {
      "image/png": "[encoded data removed]",
      "text/plain": [
       "<Figure size 432x288 with 1 Axes>"
      ]
     },
     "metadata": {
      "needs_background": "light"
     },
     "output_type": "display_data"
    }
   ],
   "source": [
    "fig, ax = plt.subplots()\n",
    "\n",
    "ax.plot(df.Trial, df.TrackingLatency.values, color='k')\n",
    "ax.set(xlabel='Trial number', ylabel='Latency (ms)');"
   ]
  },
  {
   "cell_type": "code",
   "execution_count": 54,
   "metadata": {},
   "outputs": [],
   "source": [
    "plt.hist(df.TrackingLatency.values, bins=60, color='k', alpha=.5);"
   ]
  },
  {
   "cell_type": "markdown",
   "metadata": {},
   "source": [
    "Functions going into the analysis script for plotting"
   ]
  },
  {
   "cell_type": "code",
   "execution_count": 16,
   "metadata": {},
   "outputs": [],
   "source": [
    "from matplotlib.gridspec import GridSpec"
   ]
  },
  {
   "cell_type": "code",
   "execution_count": 51,
   "metadata": {},
   "outputs": [],
   "source": [
    "session = df.Session.values[0]\n",
    "fig = plt.figure(figsize=(8, 8))\n",
    "gs = GridSpec(2, 2)\n",
    "ax1, ax2, ax3 = plt.subplot(gs[0, :]), plt.subplot(gs[1, 0]), plt.subplot(gs[1, 1])\n",
    "\n",
    "ax1.plot(df.Time, df.RigidBody_Position_norm, c='k')\n",
    "ax1.plot(df.Time, df.LED_State, c='g')\n",
    "ax1.scatter(df.Time, df.RigidBody_Position_norm, c='k', alpha=.3)\n",
    "ax1.vlines(trial_init_time, *plt.gca().get_ylim(), 'r');\n",
    "ax1.set(xlabel='Time (ms)', ylabel='Rigid body position (cm)');\n",
    "\n",
    "ax2.plot(df.Trial, df.TrackingLatency.values, color='k')\n",
    "ax2.set(xlabel='Trial number', ylabel='Latency (ms)');"
   ]
  },
  {
   "cell_type": "code",
   "execution_count": null,
   "metadata": {},
   "outputs": [],
   "source": []
  }
 ],
 "metadata": {
  "kernelspec": {
   "display_name": "Python 3",
   "language": "python",
   "name": "python3"
  },
  "language_info": {
   "codemirror_mode": {
    "name": "ipython",
    "version": 3
   },
   "file_extension": ".py",
   "mimetype": "text/x-python",
   "name": "python",
   "nbconvert_exporter": "python",
   "pygments_lexer": "ipython3",
   "version": "3.6.5"
  }
 },
 "nbformat": 4,
 "nbformat_minor": 2
}
